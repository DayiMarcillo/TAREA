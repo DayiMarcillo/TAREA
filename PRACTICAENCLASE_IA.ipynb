{
  "nbformat": 4,
  "nbformat_minor": 0,
  "metadata": {
    "colab": {
      "provenance": [],
      "authorship_tag": "ABX9TyOkHjFompyXlDzertaqQSA9",
      "include_colab_link": true
    },
    "kernelspec": {
      "name": "python3",
      "display_name": "Python 3"
    },
    "language_info": {
      "name": "python"
    }
  },
  "cells": [
    {
      "cell_type": "markdown",
      "metadata": {
        "id": "view-in-github",
        "colab_type": "text"
      },
      "source": [
        "<a href=\"https://colab.research.google.com/github/DayiMarcillo/TAREA/blob/main/PRACTICAENCLASE_IA.ipynb\" target=\"_parent\"><img src=\"https://colab.research.google.com/assets/colab-badge.svg\" alt=\"Open In Colab\"/></a>"
      ]
    },
    {
      "cell_type": "code",
      "execution_count": null,
      "metadata": {
        "colab": {
          "base_uri": "https://localhost:8080/"
        },
        "id": "qlIh8v4VRoDk",
        "outputId": "87ae4fce-a4fd-4a79-a582-d5e4dc89f60b"
      },
      "outputs": [
        {
          "output_type": "stream",
          "name": "stdout",
          "text": [
            "Python 3.10.12 (main, Jun 11 2023, 05:26:28) [GCC 11.4.0] on linux\n",
            "Type \"help\", \"copyright\", \"credits\" or \"license\" for more information.\n",
            ">>> \n",
            "\n",
            "KeyboardInterrupt\n",
            ">>> \n",
            "KeyboardInterrupt\n",
            ">>> ^C\n"
          ]
        }
      ],
      "source": [
        "!python"
      ]
    },
    {
      "cell_type": "code",
      "source": [
        "myVariable_1=4\n",
        "myVariable_2=6\n",
        "\n",
        "print(myVariable_1+myVariable_2)\n",
        "print(myVariable_1-myVariable_2)\n",
        "print(myVariable_1*myVariable_2)\n",
        "print(myVariable_1/myVariable_2)"
      ],
      "metadata": {
        "colab": {
          "base_uri": "https://localhost:8080/"
        },
        "id": "wByvaXl5SFXd",
        "outputId": "08924892-1500-4573-9ba2-e185965cc6b3"
      },
      "execution_count": null,
      "outputs": [
        {
          "output_type": "stream",
          "name": "stdout",
          "text": [
            "10\n",
            "-2\n",
            "24\n",
            "0.6666666666666666\n"
          ]
        }
      ]
    },
    {
      "cell_type": "code",
      "source": [
        "aux1=True\n",
        "aux2=False\n",
        "\n",
        "print(aux1 and aux2)\n",
        "\n",
        "print(aux1 or aux2)\n",
        "print(not aux1)\n"
      ],
      "metadata": {
        "colab": {
          "base_uri": "https://localhost:8080/"
        },
        "id": "R1Qr_u2BS0am",
        "outputId": "0f91472f-384c-4022-c048-858d3e564704"
      },
      "execution_count": null,
      "outputs": [
        {
          "output_type": "stream",
          "name": "stdout",
          "text": [
            "False\n",
            "True\n",
            "False\n"
          ]
        }
      ]
    },
    {
      "cell_type": "code",
      "source": [
        "myNameis=\"Dayana Marcillo\"\n",
        "print(myNameis)\n",
        "\n",
        "print(myNameis.upper())\n",
        "print(myNameis.lower())"
      ],
      "metadata": {
        "colab": {
          "base_uri": "https://localhost:8080/"
        },
        "id": "B8CgDpDzTa8O",
        "outputId": "64a06fa6-48d7-4ef1-9b0a-06af0b0e1532"
      },
      "execution_count": null,
      "outputs": [
        {
          "output_type": "stream",
          "name": "stdout",
          "text": [
            "Dayana Marcillo\n",
            "DAYANA MARCILLO\n",
            "dayana marcillo\n"
          ]
        }
      ]
    },
    {
      "cell_type": "code",
      "source": [
        "tmp=\"dayana; marcillo; barreiro\"\n",
        "print(tmp)\n",
        "print(tmp.split(';'))"
      ],
      "metadata": {
        "colab": {
          "base_uri": "https://localhost:8080/"
        },
        "id": "aKr925oOVHkG",
        "outputId": "3dedebef-2c27-4a07-de0d-81efdbd201f6"
      },
      "execution_count": null,
      "outputs": [
        {
          "output_type": "stream",
          "name": "stdout",
          "text": [
            "dayana; marcillo; barreiro\n",
            "['dayana', ' marcillo', ' barreiro']\n"
          ]
        }
      ]
    },
    {
      "cell_type": "code",
      "source": [
        "scholarList=['notebook', 'pen', 'ruler', 'eraser', 'pencil']\n",
        "print(scholarList)\n",
        "scholarList.append('computer')\n",
        "print(scholarList)\n",
        "print(scholarList[3])\n",
        "scholarList.pop(3)\n",
        "del scholarList[3]\n",
        "print(scholarList)"
      ],
      "metadata": {
        "colab": {
          "base_uri": "https://localhost:8080/"
        },
        "id": "emnXBfGGVs1G",
        "outputId": "2921ccc8-1f68-4130-df0b-7251391dee29"
      },
      "execution_count": null,
      "outputs": [
        {
          "output_type": "stream",
          "name": "stdout",
          "text": [
            "['notebook', 'pen', 'ruler', 'eraser', 'pencil']\n",
            "['notebook', 'pen', 'ruler', 'eraser', 'pencil', 'computer']\n",
            "eraser\n",
            "['notebook', 'pen', 'ruler', 'computer']\n"
          ]
        }
      ]
    },
    {
      "cell_type": "code",
      "source": [
        "myList=list(range(15))\n",
        "print(myList)\n",
        "print(myList[5:11])\n",
        "print(myList[-5])"
      ],
      "metadata": {
        "colab": {
          "base_uri": "https://localhost:8080/"
        },
        "id": "aebwnyZRY7ve",
        "outputId": "7ec3a2c6-4c9d-4124-c885-7a236a38f21e"
      },
      "execution_count": null,
      "outputs": [
        {
          "output_type": "stream",
          "name": "stdout",
          "text": [
            "[0, 1, 2, 3, 4, 5, 6, 7, 8, 9, 10, 11, 12, 13, 14]\n",
            "[5, 6, 7, 8, 9, 10]\n",
            "10\n"
          ]
        }
      ]
    },
    {
      "cell_type": "code",
      "source": [
        "d={'name:':'maría', 'age:':20, 'city':'EL CARMEN'}\n",
        "print(d['name:'])\n",
        "print(d['city'])\n",
        "\n",
        "# agregar una caracteristicas al diccionario\n",
        "d['UNI']='ULEAM'\n",
        "print('----------')\n",
        "print(d['UNI'])\n",
        "\n",
        "# IMPRIMIR TODO DEL DICCIONARIO\n",
        "print('----------')\n",
        "for item in d:\n",
        "  print(item)"
      ],
      "metadata": {
        "colab": {
          "base_uri": "https://localhost:8080/"
        },
        "id": "lUrhZ2XMYhQR",
        "outputId": "520c4a7a-914b-4b49-9f5a-f9b6e10c00a6"
      },
      "execution_count": 1,
      "outputs": [
        {
          "output_type": "stream",
          "name": "stdout",
          "text": [
            "maría\n",
            "EL CARMEN\n",
            "----------\n",
            "ULEAM\n",
            "----------\n",
            "name:\n",
            "age:\n",
            "city\n",
            "UNI\n"
          ]
        }
      ]
    }
  ]
}