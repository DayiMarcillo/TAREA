{
  "nbformat": 4,
  "nbformat_minor": 0,
  "metadata": {
    "colab": {
      "provenance": [],
      "authorship_tag": "ABX9TyMiD7WOICS5iH9htleToIdZ",
      "include_colab_link": true
    },
    "kernelspec": {
      "name": "python3",
      "display_name": "Python 3"
    },
    "language_info": {
      "name": "python"
    }
  },
  "cells": [
    {
      "cell_type": "markdown",
      "metadata": {
        "id": "view-in-github",
        "colab_type": "text"
      },
      "source": [
        "<a href=\"https://colab.research.google.com/github/DayiMarcillo/TAREA/blob/main/about_Numpy_library_Dayana.ipynb\" target=\"_parent\"><img src=\"https://colab.research.google.com/assets/colab-badge.svg\" alt=\"Open In Colab\"/></a>"
      ]
    },
    {
      "cell_type": "code",
      "execution_count": 1,
      "metadata": {
        "colab": {
          "base_uri": "https://localhost:8080/"
        },
        "id": "N4HJ4wcrb6U3",
        "outputId": "a5031cda-a929-46b3-9555-a39471339b07"
      },
      "outputs": [
        {
          "output_type": "stream",
          "name": "stdout",
          "text": [
            "[1 2 4]\n",
            "-----------\n",
            "(3,)\n",
            "(2, 3)\n",
            "[[1 2 4]\n",
            " [1 2 4]]\n",
            "-----------\n",
            "<class 'numpy.ndarray'>\n",
            "-----------\n",
            "[[0. 0. 0. 0.]\n",
            " [0. 0. 0. 0.]\n",
            " [0. 0. 0. 0.]\n",
            " [0. 0. 0. 0.]]\n",
            "-----------\n",
            "[[5 5 5 5]\n",
            " [5 5 5 5]\n",
            " [5 5 5 5]\n",
            " [5 5 5 5]]\n",
            "-----------\n",
            "[[1. 0. 0. 0.]\n",
            " [0. 1. 0. 0.]\n",
            " [0. 0. 1. 0.]\n",
            " [0. 0. 0. 1.]]\n",
            "-----------\n",
            "[[1. 1. 1. 1.]\n",
            " [1. 1. 1. 1.]\n",
            " [1. 1. 1. 1.]\n",
            " [1. 1. 1. 1.]]\n",
            "(4, 4)\n"
          ]
        }
      ],
      "source": [
        "import numpy as np\n",
        "\n",
        "aux=np.array([1,2,4])\n",
        "print(aux)\n",
        "print('-----------')\n",
        "# Shape no ayuda a sabes las dimención o froma de la matriz\n",
        "print(aux.shape)\n",
        "\n",
        "aux=np.array([[1,2,4],[1,2,4]])\n",
        "print(aux.shape)\n",
        "print(aux)\n",
        "print('-----------')\n",
        "print(type(aux))\n",
        "\n",
        "# los crea matrices con únicamente 0\n",
        "x=np.zeros((4,4))\n",
        "print('-----------')\n",
        "print(x)\n",
        "\n",
        "#full crea matrices con un valor constante en este caso 5\n",
        "x=np.full((4,4),5)\n",
        "print('-----------')\n",
        "print(x)\n",
        "\n",
        "# eyer crea una matriz de identificación ya que completa la matriz con 0 y en la parte principal lo completa con 1\n",
        "x=np.eye(4,4)\n",
        "print('-----------')\n",
        "print(x)\n",
        "\n",
        "# Ones se utiliza para crear un array (o matriz) de una forma específica, llena de unos\n",
        "x=np.ones((4,4))\n",
        "print('-----------')\n",
        "print(x)\n",
        "\n",
        "print(x.shape)"
      ]
    },
    {
      "cell_type": "code",
      "source": [
        "# ramdom.random se utiliza para generar un número decimal aleatorio en el rango que es esta caso es de (3,3)\n",
        "x=10*np.random.random((3,3))\n",
        "print(x)"
      ],
      "metadata": {
        "colab": {
          "base_uri": "https://localhost:8080/"
        },
        "id": "p5HyuxsncQGM",
        "outputId": "961254f0-a95d-4099-e835-c1495ff260d0"
      },
      "execution_count": 2,
      "outputs": [
        {
          "output_type": "stream",
          "name": "stdout",
          "text": [
            "[[3.50221877 9.60383032 9.96051919]\n",
            " [9.07321031 7.3614175  7.33354977]\n",
            " [6.04790478 0.22695672 7.80948756]]\n"
          ]
        }
      ]
    },
    {
      "cell_type": "code",
      "source": [
        "print(x[:2,:2])"
      ],
      "metadata": {
        "colab": {
          "base_uri": "https://localhost:8080/"
        },
        "id": "bgpuNFTlcTAW",
        "outputId": "2ee366a0-c63b-4a62-f5e4-608acc7208a7"
      },
      "execution_count": 3,
      "outputs": [
        {
          "output_type": "stream",
          "name": "stdout",
          "text": [
            "[[3.50221877 9.60383032]\n",
            " [9.07321031 7.3614175 ]]\n"
          ]
        }
      ]
    },
    {
      "cell_type": "code",
      "source": [
        "print(x[:2,1:3])"
      ],
      "metadata": {
        "colab": {
          "base_uri": "https://localhost:8080/"
        },
        "id": "_Cp963MrcWjt",
        "outputId": "3160adb2-5763-47e6-8594-df3cb56a8227"
      },
      "execution_count": 4,
      "outputs": [
        {
          "output_type": "stream",
          "name": "stdout",
          "text": [
            "[[9.60383032 9.96051919]\n",
            " [7.3614175  7.33354977]]\n"
          ]
        }
      ]
    },
    {
      "cell_type": "code",
      "source": [
        "print(x[1,1])"
      ],
      "metadata": {
        "colab": {
          "base_uri": "https://localhost:8080/"
        },
        "id": "e0HYBwIccalh",
        "outputId": "08b73c3d-adf2-45dd-cde3-cb9446ff442c"
      },
      "execution_count": 5,
      "outputs": [
        {
          "output_type": "stream",
          "name": "stdout",
          "text": [
            "7.361417504743137\n"
          ]
        }
      ]
    },
    {
      "cell_type": "code",
      "source": [
        "print(x[2,2])"
      ],
      "metadata": {
        "colab": {
          "base_uri": "https://localhost:8080/"
        },
        "id": "N0fN6V4rcd4d",
        "outputId": "f2fc8d29-456f-442f-ff22-5ab8eb3a7973"
      },
      "execution_count": 6,
      "outputs": [
        {
          "output_type": "stream",
          "name": "stdout",
          "text": [
            "7.809487558741676\n"
          ]
        }
      ]
    },
    {
      "cell_type": "code",
      "source": [
        "# ramdom.random se utiliza para generar un número decimal aleatorio en el rango que es esta caso es de (3,3)\n",
        "x=10*np.random.random((3,3))\n",
        "print(x)"
      ],
      "metadata": {
        "colab": {
          "base_uri": "https://localhost:8080/"
        },
        "id": "v9OpTOs5ciJ8",
        "outputId": "d0ad1c92-0439-4a31-f5ff-a6f6eb823317"
      },
      "execution_count": 7,
      "outputs": [
        {
          "output_type": "stream",
          "name": "stdout",
          "text": [
            "[[9.50157041 8.57579688 5.10464017]\n",
            " [2.15405333 1.14635378 0.53305185]\n",
            " [2.87229834 6.09501564 3.98829515]]\n"
          ]
        }
      ]
    },
    {
      "cell_type": "code",
      "source": [
        "# mask se puede utilizar con arrays o matrices para realizar operaciones condicionales.\n",
        "mask=x>5\n",
        "print(x[mask])"
      ],
      "metadata": {
        "colab": {
          "base_uri": "https://localhost:8080/"
        },
        "id": "MD5qDufoclx0",
        "outputId": "7b2758df-6a9a-4d9a-c0e7-54b6e4bfa10f"
      },
      "execution_count": 8,
      "outputs": [
        {
          "output_type": "stream",
          "name": "stdout",
          "text": [
            "[9.50157041 8.57579688 5.10464017 6.09501564]\n"
          ]
        }
      ]
    },
    {
      "cell_type": "code",
      "source": [
        "#filter es una función incorporada que se utiliza para filtrar elementos de una secuencia entre un rango\n",
        "filter=(x>=2)&(x<=4)\n",
        "print(x[filter])"
      ],
      "metadata": {
        "colab": {
          "base_uri": "https://localhost:8080/"
        },
        "id": "NVwmBmrmcqCQ",
        "outputId": "8babb54f-6e59-4e85-f349-4c837dd75a0d"
      },
      "execution_count": 9,
      "outputs": [
        {
          "output_type": "stream",
          "name": "stdout",
          "text": [
            "[2.15405333 2.87229834 3.98829515]\n"
          ]
        }
      ]
    },
    {
      "cell_type": "code",
      "source": [
        "#filter es una función incorporada que se utiliza para filtrar elementos de una secuencia entre un rango\n",
        "filter=(x>=2)&(x<=4)\n",
        "print(x[filter])"
      ],
      "metadata": {
        "colab": {
          "base_uri": "https://localhost:8080/"
        },
        "id": "YeKxzRqMcuvT",
        "outputId": "0db131be-afe7-497e-86d8-18f43a949ff3"
      },
      "execution_count": 10,
      "outputs": [
        {
          "output_type": "stream",
          "name": "stdout",
          "text": [
            "[2.15405333 2.87229834 3.98829515]\n"
          ]
        }
      ]
    },
    {
      "cell_type": "code",
      "source": [
        "# ramdom.randint se utiliza para generar un número enteros aleatorio en el rango que es esta caso es de (0,5)\n",
        "integer_array=np.random.randint(0,5,(4,4))\n",
        "print(integer_array)"
      ],
      "metadata": {
        "colab": {
          "base_uri": "https://localhost:8080/"
        },
        "id": "s1U4AXp2c2VP",
        "outputId": "7e456e70-f9ba-484c-f5a7-92b7f4083410"
      },
      "execution_count": 11,
      "outputs": [
        {
          "output_type": "stream",
          "name": "stdout",
          "text": [
            "[[2 4 2 4]\n",
            " [4 2 2 4]\n",
            " [2 1 0 3]\n",
            " [1 3 4 2]]\n"
          ]
        }
      ]
    },
    {
      "cell_type": "markdown",
      "source": [
        "***Segunda Parte***"
      ],
      "metadata": {
        "id": "tVqA1EvQd7hz"
      }
    },
    {
      "cell_type": "code",
      "source": [
        "import numpy as np\n",
        "# ramdom.randint se utiliza para generar un número enteros aleatorio en el rango que es esta caso es de (0,10)\n",
        "a=np.random.randint(0,10,(3,4))\n",
        "\n",
        "b=np.random.randint(0,10,(3,4))\n",
        "print(\"MATRIZ A\")\n",
        "# se imprime la matriz A\n",
        "print(a)\n",
        "print(\"MATRIZ B\")\n",
        "# se imprime la matriz b\n",
        "print(b)\n",
        "print(\"SUMANDO\")\n",
        "# se imprime una matriz sumando la matriz a+b\n",
        "print(a+b)\n",
        "print(\"RESTANDO\")\n",
        "# se imprime una matriz restando la matriz a-b\n",
        "print(a-b)\n",
        "print(\"MULTIPLICANDO\")\n",
        "# se imprime una matriz multiplicando la matriz a*b\n",
        "print(a*b)\n",
        "print(\"___________\")\n",
        "\n",
        "# add se utiliza para realizar la suma de dos arrays o matrices de elemento por elemento.\n",
        "print(np.add(a,b))\n",
        "print(\"___________\")\n",
        "\n",
        "# multiply se utiliza para realizar la multiplicaciones de dos arrays o matrices de elemento por elemento.\n",
        "print(np.multiply(a,b))\n",
        "print(\"___________\")\n",
        "\n",
        "# divide se utiliza para realizar la divisiones de dos arrays o matrices de elemento por elemento.\n",
        "print(np.divide(a,b))\n",
        "print(\"___________\")\n"
      ],
      "metadata": {
        "colab": {
          "base_uri": "https://localhost:8080/"
        },
        "id": "xMYFI-LUdW6e",
        "outputId": "31a10e46-961d-4ab6-e105-10e30549506a"
      },
      "execution_count": 12,
      "outputs": [
        {
          "output_type": "stream",
          "name": "stdout",
          "text": [
            "MATRIZ A\n",
            "[[3 2 5 9]\n",
            " [4 4 4 1]\n",
            " [1 4 4 3]]\n",
            "MATRIZ B\n",
            "[[6 5 3 4]\n",
            " [9 4 7 0]\n",
            " [4 7 7 9]]\n",
            "SUMANDO\n",
            "[[ 9  7  8 13]\n",
            " [13  8 11  1]\n",
            " [ 5 11 11 12]]\n",
            "RESTANDO\n",
            "[[-3 -3  2  5]\n",
            " [-5  0 -3  1]\n",
            " [-3 -3 -3 -6]]\n",
            "MULTIPLICANDO\n",
            "[[18 10 15 36]\n",
            " [36 16 28  0]\n",
            " [ 4 28 28 27]]\n",
            "___________\n",
            "[[ 9  7  8 13]\n",
            " [13  8 11  1]\n",
            " [ 5 11 11 12]]\n",
            "___________\n",
            "[[18 10 15 36]\n",
            " [36 16 28  0]\n",
            " [ 4 28 28 27]]\n",
            "___________\n",
            "[[0.5        0.4        1.66666667 2.25      ]\n",
            " [0.44444444 1.         0.57142857        inf]\n",
            " [0.25       0.57142857 0.57142857 0.33333333]]\n",
            "___________\n"
          ]
        },
        {
          "output_type": "stream",
          "name": "stderr",
          "text": [
            "<ipython-input-12-05e0c2dd3210>:32: RuntimeWarning: divide by zero encountered in divide\n",
            "  print(np.divide(a,b))\n"
          ]
        }
      ]
    },
    {
      "cell_type": "code",
      "source": [
        "# ramdom.randint se utiliza para generar un número enteros aleatorio en el rango que es esta caso es de (0,10)\n",
        "a=np.random.randint(0,10,(2,3))\n",
        "\n",
        "b=np.random.randint(0,10,(3,4))\n",
        "print(\"MATRIZ A\")\n",
        "print(a)\n",
        "print(\"MATRIZ B\")\n",
        "print(b)\n",
        "print(\"___________\")\n",
        "\n",
        "# dot son multiplica las matrices\n",
        "print(np.dot(a,b))"
      ],
      "metadata": {
        "colab": {
          "base_uri": "https://localhost:8080/"
        },
        "id": "BjLigwlPdZXU",
        "outputId": "8d12eea3-11ac-441e-9b43-6578adadc6f6"
      },
      "execution_count": 13,
      "outputs": [
        {
          "output_type": "stream",
          "name": "stdout",
          "text": [
            "MATRIZ A\n",
            "[[4 1 7]\n",
            " [4 3 3]]\n",
            "MATRIZ B\n",
            "[[0 5 8 1]\n",
            " [5 7 0 7]\n",
            " [3 4 4 3]]\n",
            "___________\n",
            "[[26 55 60 32]\n",
            " [24 53 44 34]]\n"
          ]
        }
      ]
    },
    {
      "cell_type": "code",
      "source": [
        "a=np.random.randint(0,10,(3,3))\n",
        "print(a)\n",
        "print(\"___________\")\n",
        "# a.T intercambia las filas por columnas\n",
        "print(a.T)"
      ],
      "metadata": {
        "colab": {
          "base_uri": "https://localhost:8080/"
        },
        "id": "q3S1UXevdjqk",
        "outputId": "e1a7b792-bde9-4799-d73b-43ccd8f6a342"
      },
      "execution_count": 14,
      "outputs": [
        {
          "output_type": "stream",
          "name": "stdout",
          "text": [
            "[[1 2 2]\n",
            " [4 9 7]\n",
            " [3 5 8]]\n",
            "___________\n",
            "[[1 4 3]\n",
            " [2 9 5]\n",
            " [2 7 8]]\n"
          ]
        }
      ]
    },
    {
      "cell_type": "code",
      "source": [
        "a=np.random.randint(0,10,(4,3))\n",
        "print(a)\n",
        "print(\"___________\")\n",
        "\n",
        "b=np.array([1,0,2])\n",
        "print(b)\n",
        "print(\"___________\")\n",
        "\n",
        "# se crea una nueva matriz  utilizando la matriz A y B\n",
        "c=np.empty_like(a)\n",
        "print(c)\n",
        "print(\"___________\")\n",
        "x=a+b\n",
        "\n",
        "print(np.empty_like(x))"
      ],
      "metadata": {
        "colab": {
          "base_uri": "https://localhost:8080/"
        },
        "id": "HZRBPQ4VdnYN",
        "outputId": "328b0d4f-0eee-4b32-ff32-3dff2b10e815"
      },
      "execution_count": 15,
      "outputs": [
        {
          "output_type": "stream",
          "name": "stdout",
          "text": [
            "[[2 1 4]\n",
            " [2 6 1]\n",
            " [0 6 2]\n",
            " [5 3 1]]\n",
            "___________\n",
            "[1 0 2]\n",
            "___________\n",
            "[[3 2 5]\n",
            " [9 4 4]\n",
            " [4 1 1]\n",
            " [4 4 3]]\n",
            "___________\n",
            "[[99400126511993              0              2]\n",
            " [             1              0              2]\n",
            " [             1              0              2]\n",
            " [             1              0              2]]\n"
          ]
        }
      ]
    },
    {
      "cell_type": "code",
      "source": [
        "# FOR se utiliza para realizar un blucle y tiene un rango\n",
        "for i in range(4):\n",
        "  c[i,:]=a[i,:]+b\n",
        "\n",
        "print(a)\n",
        "print(\"___________\")\n",
        "\n",
        "\n",
        "print(b)\n",
        "print(\"___________\")\n",
        "\n",
        "\n",
        "print(c)\n",
        "print(\"___________\")"
      ],
      "metadata": {
        "colab": {
          "base_uri": "https://localhost:8080/"
        },
        "id": "n1EWIwWGdpoZ",
        "outputId": "047956b0-de46-4c67-87f4-b3d722db900b"
      },
      "execution_count": 16,
      "outputs": [
        {
          "output_type": "stream",
          "name": "stdout",
          "text": [
            "[[2 1 4]\n",
            " [2 6 1]\n",
            " [0 6 2]\n",
            " [5 3 1]]\n",
            "___________\n",
            "[1 0 2]\n",
            "___________\n",
            "[[3 1 6]\n",
            " [3 6 3]\n",
            " [1 6 4]\n",
            " [6 3 3]]\n",
            "___________\n"
          ]
        }
      ]
    },
    {
      "cell_type": "code",
      "source": [
        "b=np.array([1,2,3])\n",
        "print(b)\n",
        "print(\"___________\")\n",
        "\n",
        "# tile se utiliza para replicar la matrices en esta caso se replica la matriz B pero con un rango de 6 veces\n",
        "x=np.tile(b,(6,1))\n",
        "print(x)"
      ],
      "metadata": {
        "colab": {
          "base_uri": "https://localhost:8080/"
        },
        "id": "F4_qJViKdvxS",
        "outputId": "34330c39-86b1-46f1-8172-b2bb8b978ef6"
      },
      "execution_count": 17,
      "outputs": [
        {
          "output_type": "stream",
          "name": "stdout",
          "text": [
            "[1 2 3]\n",
            "___________\n",
            "[[1 2 3]\n",
            " [1 2 3]\n",
            " [1 2 3]\n",
            " [1 2 3]\n",
            " [1 2 3]\n",
            " [1 2 3]]\n"
          ]
        }
      ]
    },
    {
      "cell_type": "code",
      "source": [
        "a=np.random.randint(20,31,(6,6))\n",
        "print(a)\n",
        "print(\"___________\")\n",
        "\n",
        "print(\"PROMEDIOS COMPLETOS\")\n",
        "# Mean se utiliza para crear el promedio de la matriz\n",
        "aux1=np.mean(a)\n",
        "print(aux1)\n",
        "\n",
        "print(\"___________\")\n",
        "print(\"PROMEDIOS POR FILAS\")\n",
        "# Mean se utiliza para crear el promedio de la matriz pero ahora por fila en este caso la fila 1\n",
        "aux2=np.mean(a,axis=1)\n",
        "print(aux2)"
      ],
      "metadata": {
        "colab": {
          "base_uri": "https://localhost:8080/"
        },
        "id": "lSZ1yGnvdxpw",
        "outputId": "0ca47772-acd9-4487-ec65-9fb0eba5fb4f"
      },
      "execution_count": 18,
      "outputs": [
        {
          "output_type": "stream",
          "name": "stdout",
          "text": [
            "[[25 25 25 26 24 22]\n",
            " [24 28 22 22 24 25]\n",
            " [25 24 29 24 21 23]\n",
            " [27 26 25 26 25 24]\n",
            " [26 30 28 23 25 30]\n",
            " [30 24 25 20 28 28]]\n",
            "___________\n",
            "PROMEDIOS COMPLETOS\n",
            "25.22222222222222\n",
            "___________\n",
            "PROMEDIOS POR FILAS\n",
            "[24.5        24.16666667 24.33333333 25.5        27.         25.83333333]\n"
          ]
        }
      ]
    }
  ]
}